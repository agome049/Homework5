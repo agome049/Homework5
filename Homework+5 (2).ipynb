{
 "cells": [
  {
   "cell_type": "markdown",
   "metadata": {},
   "source": [
    "# Homework 5: This or Physics Hack Day\n",
    "\n",
    "Physics 177, Spring 2017 (Prof. Tanedo)  \n",
    "Revised: Monday, May 15th  \n",
    "Due: Tuesday, May 16    \n",
    "\n",
    "*Antonio Gomez*\n",
    "\n",
    "**Important**: This homework is optional **if** you participate in Physics Hack Day:  \n",
    "http://theory.ucr.edu/PhysicsHackDay/\n",
    "\n",
    "If you do so, please delete all of the cells below and replace it with a link to the Physics Hack Day GitHub repository to which you contributed. \n"
   ]
  },
  {
   "cell_type": "markdown",
   "metadata": {},
   "source": [
    "## Problem 1: Double Pendulum\n",
    "\n",
    "In this problem, you will extend the simple pendulum in <a href=\"https://github.com/Physics177-2017/Homework04\">Homework 4</a> to a <a href=\"https://en.wikipedia.org/wiki/Double_pendulum\">double pendulum</a>.\n",
    "\n",
    "<img src=\"hw5pendulum.png\">  \n",
    "Image from <a href=\"https://commons.wikimedia.org/wiki/File:Double-Pendulum.svg\">Wikimedia Commons</a>\n",
    "\n",
    "Assume no forces other than gravity. Do not assume the small angle approximation. \n",
    "\n",
    "Plot the trajectory of the double pendulum for a few different initial conditions. Your goal is to reproduce the cool-looking trajectories in the  <a href=\"https://en.wikipedia.org/wiki/Double_pendulum\">Wikipedia article</a>, for example:\n",
    "\n",
    "<img src=\"hw5_doublepic.jpg\">\n",
    "\n",
    "** Update (5/15) **: you may use the equations of motion from exercise 8.14 of the book. This assumes equal masses and equal length pendulum rods.\n",
    "\n",
    "<img src=\"HW5_EOM.png\">\n",
    "\n",
    "** Check **: for the following parameters:\n",
    "\n",
    "`g = 9.8`  \n",
    "`dt = 0.01`  \n",
    "\n",
    "\n",
    "`L1 = 1.0`  \n",
    "`L2 = 1.0`  \n",
    "`m1 = 1.0`  \n",
    "`m2 = 1.0`  \n",
    "\n",
    "`omega1_init = 0.0`  \n",
    "`omega2_init = 0.0`\n",
    "\n",
    "I obtained:\n",
    "\n",
    "<img src=\"HW5_Prob1.png\">"
   ]
  },
  {
   "cell_type": "code",
   "execution_count": 106,
   "metadata": {
    "collapsed": false
   },
   "outputs": [],
   "source": [
    "import numpy as np\n",
    "import matplotlib.pyplot as plt\n",
    "from math import sin as sin\n",
    "from math import cos as cos\n",
    "\n",
    "L1=1.0\n",
    "L2=1.0\n",
    "m1=1.0\n",
    "m2=1.0\n",
    "g=9.8\n",
    "dt=0.01\n",
    "tf=10.0\n",
    "thi =2\n",
    "thii=2\n",
    "omi=0.0\n",
    "omii=0.0\n",
    "\n",
    "def f1(th1,th2,om1,om2,t):\n",
    "    return om1\n",
    "    \n",
    "def f2(th1,th2,om1,om2,t):\n",
    "    return om2\n",
    "\n",
    "def h1(th1,th2,om1,om2,t):\n",
    "    return -((om1**2)*sin(2*th1-2*th2)+2*(om2**2)*sin(th1-th2)+(g/L1)*(sin(th2-2*th2)+3*sin(th1)))/(3-cos(2*th1-2*th2))\n",
    "\n",
    "def h2(th1,th2,om1,om2,t):\n",
    "    return ((4*om1**2)*sin(th1-th2)+(om2**2)*sin(2*th1-2*th2)+2*(g/L2)*(sin(2*th1-th2)-sin(th2)))/(3-cos(2*th1-2*th2)) \n",
    "\n",
    "#######################################\n",
    "\n",
    "tpoints = np.arange(0,tf,dt)\n",
    "\n",
    "def time_and_angles():\n",
    "\n",
    "    th1p = []\n",
    "    th2p = []\n",
    "    om1p = []\n",
    "    om2p = []\n",
    "    \n",
    "    \n",
    "    th1 = thi\n",
    "    th2 = thii\n",
    "\n",
    "    om1 = omi\n",
    "    om2 = omii\n",
    "    \n",
    "    for t in tpoints:\n",
    "        \n",
    "        th1p.append(th1)\n",
    "        th2p.append(th2)\n",
    "        om1p.append(om1)\n",
    "        om2p.append(om2)\n",
    "        ##########################################\n",
    "        \n",
    "        k1i = dt*f1(th1,th2,om1,om2,t)\n",
    "        k2i = dt*f1(th1p[-1]+.5*k1i,th2p[-1]+.5*k1i,om1,om2,t)\n",
    "        th1 +=k2i\n",
    "        \n",
    "        k1ii =dt*h2(th1,th2,om1,om2,t)\n",
    "        k2ii =dt*f2(th1p[-1]+.5*k1i,th2p[-1]+.5*k1i,om1,om2,t)\n",
    "        th2 +=k2ii\n",
    "        ##########################################       \n",
    "      \n",
    "        k1i = dt*h1(th1,th2,om1,om2,t)\n",
    "        k2i = dt*h1(th1p[-1]+.5*k1i,th2p[-1]+.5*k1i,om1,om2,t)    \n",
    "        om1 += k2i\n",
    "        \n",
    "        k1ii =dt*h2(th1,th2,om1,om2,t)\n",
    "        k2ii =dt*h2(th1p[-1]+.5*k1i,th2p[-1]+.5*k1i,om1,om2,t)\n",
    "        om2 += k2ii\n",
    "\n",
    "\n",
    "    tt = np.array(tpoints)\n",
    "    th1s = np.array(th1p)\n",
    "    th2s = np.array(th2p)\n",
    "    om1s = np.array(om1p)\n",
    "    om2s = np.array(om2p)\n",
    "    \n",
    "    return tt, th1s, th2s, om1s, om2s\n",
    "    \n"
   ]
  },
  {
   "cell_type": "code",
   "execution_count": 107,
   "metadata": {
    "collapsed": false
   },
   "outputs": [
    {
     "data": {
      "image/png": "[encoded data removed]",
      "text/plain": [
       "<matplotlib.figure.Figure at 0x24d357e6a20>"
      ]
     },
     "metadata": {},
     "output_type": "display_data"
    }
   ],
   "source": [
    "time, th1, th2, om1, om2 = time_and_angles()\n",
    "x1=np.sin(th1/15)\n",
    "y1=np.cos(th1/15)\n",
    "x2=np.sin(th2/15)\n",
    "y2=np.cos(th2/15)\n",
    "plt.plot(time,th1)\n",
    "plt.plot(time,th2)\n",
    "plt.show()\n",
    "\n",
    "#I dont really know where I went wrong"
   ]
  },
  {
   "cell_type": "code",
   "execution_count": null,
   "metadata": {
    "collapsed": false
   },
   "outputs": [],
   "source": []
  },
  {
   "cell_type": "markdown",
   "metadata": {},
   "source": [
    "## Problem 1, extra credit:\n",
    "\n",
    "I think the double pendulum trajectories are really neat. They're a very simple system with surprisingly complex behavior. (Maybe it's just surprising to me?) For extra credit (or for inspiration for Physics Hack Day), consider some of the following:\n",
    "\n",
    "* Make an animation of the double pendulum trajectory. You can simultaneously animate the trajectories of both weights, see <a href=\"https://en.wikipedia.org/wiki/Double_pendulum#/media/File:Trajektorie_eines_Doppelpendels.gif\">this  example</a>. \n",
    "* In your animation above, can you also do the \"gradual fading\" of the older trajectory points that is demonstrated in the example?\n",
    "* Here's something really cool: can you **sonify** the trajectory? Map the *velocity* of the mass to a pitch and then play the pitch as the pendulum moves. In this way, you model the *Doppler shift* of a buzzer attached to the double pendulum. You can find an example of the implementation of the `scipy` sound library <a href=\"https://losc.ligo.org/s/events/GW150914/GW150914_tutorial.html\">here</a>... which is itself a fantastic example of a Jupyter notebook in Nobel-prize-worthy research.\n",
    "* Triple pendulum?! (If you need inspiration: https://www.youtube.com/watch?v=OQSNhk5ICTI) ... *no, it turns out that this is really hard.*"
   ]
  },
  {
   "cell_type": "code",
   "execution_count": null,
   "metadata": {
    "collapsed": true
   },
   "outputs": [],
   "source": []
  },
  {
   "cell_type": "markdown",
   "metadata": {},
   "source": [
    "## Problem 2: Poisson Equation\n",
    "\n",
    "The Poisson equation in two dimension is:\n",
    "\n",
    "$$\\displaystyle \\partial_x^2 \\phi(x,y) + \\partial_y^2 \\phi(x,y) = -\\rho(x,y)$$\n",
    "\n",
    "We have picked units where $\\varepsilon_0 = 1$ and $\\rho$ is the charge density.\n",
    "\n",
    "This is similar to the <a href=\"https://github.com/Physics177-2017/Lec11-PDE/blob/master/Lecture%2011%20Preview.ipynb\">Lecture 11</a> demo, except that now there are source charges. \n",
    "\n",
    "Numerically solve the Poisson equation following two dimensional system (Newman Example 9.2):\n",
    "\n",
    "<img src=\"HW5_NewmanFig9.4.png\">\n",
    "\n",
    "This is a 2D with size 100 cm by 100 cm. There are smaller 20 cm by 20 cm squares. The one on the upper right has charge density $\\rho = +1/\\text{cm}^2$ and the one on the lower left has charge density $\\rho = -1/\\text{cm}^2$. The boundaries of the large square are set to zero potential. \n",
    "\n",
    "Solve for the potential, $\\phi$, everywhere in the large square. Plot the potential. I leave it to you to pick a discretization (step size) that is sufficiently fast while also demonstrating the correct behavior. \n",
    "\n",
    "Hint: before you do anything, you should guess what the expected result should be."
   ]
  },
  {
   "cell_type": "code",
   "execution_count": 74,
   "metadata": {
    "collapsed": false
   },
   "outputs": [],
   "source": [
    "import numpy as np\n",
    "\n",
    "# Constants\n",
    "M = 10# grid squares per side\n",
    "V = 0      \n",
    "target = 1e-2  # target accuracy\n",
    "\n",
    "# arrays\n",
    "phi = np.zeros([M+1,M+1],float) # initialize\n",
    "phi[0,:] = 0\n",
    "phiprime = np.zeros([M+1, M+1],float) # container for new values\n",
    "\n",
    "\n",
    "# print(phi)\n",
    "\n",
    "# Main Loop\n",
    "delta = 1.0\n",
    "while delta > target:\n",
    "    # calculate new values of the potential\n",
    "\n",
    "    for i in range(M+1):\n",
    "        for j in range(M+1):\n",
    "\n",
    "            # if boundary\n",
    "            if i==0 or i==M or j==0 or j==M :\n",
    "                phiprime[i,j] = phi[i,j]\n",
    "            else:\n",
    "                phiprime[i,j] = (phi[i+1,j] + phi[i-1,j] + phi[i,j+1] + phi[i,j-1])/4.\n",
    "                \n",
    "            phiprime[8,8] = 1\n",
    "            phiprime[2,2] = -1\n",
    "    \n",
    "    # NOTE: indentation is very important!\n",
    "    # convergence check\n",
    "    delta = np.max(np.abs(phi-phiprime))\n",
    "            \n",
    "    # swap arrays\n",
    "    phi, phiprime = phiprime, phi\n",
    "\n",
    "            \n",
    "#print(phi)"
   ]
  },
  {
   "cell_type": "code",
   "execution_count": 75,
   "metadata": {
    "collapsed": false
   },
   "outputs": [
    {
     "data": {
      "image/png": "[encoded data removed]",
      "text/plain": [
       "<matplotlib.figure.Figure at 0x229be5980b8>"
      ]
     },
     "metadata": {},
     "output_type": "display_data"
    }
   ],
   "source": [
    "import matplotlib.pyplot as plt\n",
    "\n",
    "xx, yy = np.meshgrid(np.arange(M+1),np.arange(M+1))\n",
    "plt.pcolormesh(xx,yy,phi)\n",
    "plt.colorbar()\n",
    "plt.show()\n"
   ]
  },
  {
   "cell_type": "code",
   "execution_count": null,
   "metadata": {
    "collapsed": true
   },
   "outputs": [],
   "source": []
  }
 ],
 "metadata": {
  "kernelspec": {
   "display_name": "Python 3",
   "language": "python",
   "name": "python3"
  },
  "language_info": {
   "codemirror_mode": {
    "name": "ipython",
    "version": 3
   },
   "file_extension": ".py",
   "mimetype": "text/x-python",
   "name": "python",
   "nbconvert_exporter": "python",
   "pygments_lexer": "ipython3",
   "version": "3.6.0"
  }
 },
 "nbformat": 4,
 "nbformat_minor": 2
}
